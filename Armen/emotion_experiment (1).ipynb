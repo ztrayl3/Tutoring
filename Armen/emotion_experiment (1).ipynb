{
 "cells": [
  {
   "cell_type": "code",
   "execution_count": 1,
   "id": "1f6eef0b-8e9d-47bc-8620-44708b965f27",
   "metadata": {},
   "outputs": [],
   "source": [
    "import moviepy.editor\n",
    "import numpy as np\n",
    "import random\n",
    "import pygame\n",
    "import socket\n",
    "import time\n"
   ]
  },
  {
   "cell_type": "code",
   "execution_count": 2,
   "id": "da037a6b-be44-4fff-8e0c-ea44bb77bb94",
   "metadata": {},
   "outputs": [],
   "source": [
    "def fixation_cross(screen, duration):\n",
    "    bg = (0, 0, 225)\n",
    "    cross = (255, 255, 255)\n",
    "\n",
    "    center = (screen.get_width() // 2, screen.get_height() // 2)\n",
    "    screen.fill(bg)\n",
    "    pygame.draw.line(screen, cross, (center[0] - 400, center[1]), (center[0] + 400, center[1]), 10)\n",
    "    pygame.draw.line(screen, cross, (center[0], center[1] - 400), (center[0], center[1] + 400), 10)\n",
    "\n",
    "    pygame.display.update()\n",
    "    time.sleep(duration)"
   ]
  },
  {
   "cell_type": "code",
   "execution_count": 3,
   "id": "b9f1922c-d1a4-475f-b506-8e301f7f8f67",
   "metadata": {},
   "outputs": [],
   "source": [
    "def blit_text(surface, text, pos, font, color=pygame.Color('black')):\n",
    "    words = [word.split(' ') for word in text.splitlines()]  # 2D array where each row is a list of words.\n",
    "    space = font.size(' ')[0]  # The width of a space.\n",
    "    max_width, max_height = surface.get_size()\n",
    "    x, y = pos\n",
    "    for line in words:\n",
    "        for word in line:\n",
    "            word_surface = font.render(word, 0, color)\n",
    "            word_width, word_height = word_surface.get_size()\n",
    "            if x + word_width >= max_width:\n",
    "                x = pos[0]  # Reset the x.\n",
    "                y += word_height  # Start on new row.\n",
    "            surface.blit(word_surface, (x, y))\n",
    "            x += word_width + space\n",
    "        x = pos[0]  # Reset the x.\n",
    "        y += word_height  # Start on new row."
   ]
  },
  {
   "cell_type": "code",
   "execution_count": 4,
   "id": "277f51e0-8338-4fcf-9fc9-89a74a47d68e",
   "metadata": {},
   "outputs": [],
   "source": [
    "def off_center(surface, xoff, yoff):\n",
    "    center = (surface/ 2, surface.get_height() / 2)\n",
    "    return center[0] + xoff, center[1] + yoff.get_width() "
   ]
  },
  {
   "cell_type": "code",
   "execution_count": 5,
   "id": "20f6bd04-0cd6-486b-83d7-5ac9d7debddc",
   "metadata": {},
   "outputs": [],
   "source": [
    "def wait(key):\n",
    "    while True:\n",
    "        # gets a single event from the event queue\n",
    "        event = pygame.event.wait()\n",
    "        print(event)\n",
    "        # captures the 'KEYDOWN'\n",
    "        if event.type == pygame.KEYDOWN:\n",
    "            # gets the key name\n",
    "            if key and pygame.key.name(event.key) == key:\n",
    "                return True\n",
    "            elif not key and key != '5':\n",
    "                return True"
   ]
  },
  {
   "cell_type": "code",
   "execution_count": 6,
   "id": "f539044d-134e-49a9-95ce-4390d5b8049a",
   "metadata": {},
   "outputs": [],
   "source": [
    "white = (255, 255, 255)\n",
    "green = (0, 255, 0)\n",
    "blue = (0, 0, 128)\n",
    "black = (0, 0, 0)\n",
    "gray = (112, 112, 112)"
   ]
  },
  {
   "cell_type": "code",
   "execution_count": null,
   "id": "421939a0-8bd4-4b2b-bb74-0eca2215f32d",
   "metadata": {},
   "outputs": [
    {
     "name": "stdin",
     "output_type": "stream",
     "text": [
      "What is your name? Armen\n"
     ]
    },
    {
     "name": "stdout",
     "output_type": "stream",
     "text": [
      "<Event(4352-AudioDeviceAdded {'which': 0, 'iscapture': 0})>\n",
      "<Event(4352-AudioDeviceAdded {'which': 1, 'iscapture': 0})>\n",
      "<Event(4352-AudioDeviceAdded {'which': 0, 'iscapture': 1})>\n",
      "<Event(4352-AudioDeviceAdded {'which': 1, 'iscapture': 1})>\n",
      "<Event(32768-ActiveEvent {})>\n",
      "<Event(32774-WindowShown {'window': None})>\n",
      "<Event(32770-VideoExpose {})>\n",
      "<Event(32776-WindowExposed {'window': None})>\n",
      "<Event(32768-ActiveEvent {'gain': 1, 'state': 1})>\n",
      "<Event(32785-WindowFocusGained {'window': None})>\n",
      "<Event(770-TextEditing {'text': '', 'start': 0, 'length': 0, 'window': None})>\n",
      "<Event(32768-ActiveEvent {'gain': 1, 'state': 0})>\n",
      "<Event(32783-WindowEnter {'window': None})>\n",
      "<Event(1024-MouseMotion {'pos': (1107, 1054), 'rel': (0, 0), 'buttons': (0, 0, 0), 'touch': False, 'window': None})>\n",
      "<Event(32770-VideoExpose {})>\n",
      "<Event(32776-WindowExposed {'window': None})>\n",
      "<Event(768-KeyDown {'unicode': ' ', 'key': 32, 'mod': 0, 'scancode': 44, 'window': None})>\n",
      "<Event(768-KeyDown {'unicode': '6', 'key': 54, 'mod': 0, 'scancode': 35, 'window': None})>\n",
      "<Event(771-TextInput {'text': '6', 'window': None})>\n",
      "<Event(769-KeyUp {'unicode': '6', 'key': 54, 'mod': 0, 'scancode': 35, 'window': None})>\n",
      "<Event(768-KeyDown {'unicode': '6', 'key': 54, 'mod': 0, 'scancode': 35, 'window': None})>\n"
     ]
    }
   ],
   "source": [
    "name = input(\"What is your name?\")\n",
    "\n",
    "screen = pygame.display.set_mode()  # create pygame display\n",
    "screen.fill(white)\n",
    "pygame.font.init()\n",
    "font = pygame.font.SysFont('Arial', 30)\n",
    "text = font.render(\"Welcome to your emotional roller coaster \"+ name + \" Watch some videos and answer questions. Press any key to continue\", True, white, blue)\n",
    "textRect = text.get_rect()\n",
    "textRect.center = (screen.get_width() // 2, screen.get_height() // 2)\n",
    "\n",
    "screen.blit(text,textRect)\n",
    "pygame.display.update()\n",
    "wait(\"\")\n",
    "\n",
    "videos = [\"Videos/v4 Better - Mamba Forever.mp4\",\"Videos/v5 Profilactica.mov\"]\n",
    "\n",
    "for vid in videos:\n",
    "\n",
    "    fixation_cross(screen, 3)\n",
    "\n",
    "    v = moviepy.editor.VideoFileClip(vid)\n",
    "    v = v.resize(height=1080)\n",
    "    v.preview()\n",
    "    pygame.display.update()\n",
    "\n",
    "    imp = pygame.image.load(\"Images/valence.png\").convert()\n",
    "    screen.fill(white)\n",
    "    center = (400,400)\n",
    "    screen.blit(imp, center)\n",
    "    pygame.display.flip()\n",
    "    response = wait(\"\")\n",
    "\n",
    "\n",
    "    imp = pygame.image.load(\"Images/arousal.png\").convert()\n",
    "    screen.fill(white)\n",
    "    center = (400,400)\n",
    "    screen.blit(imp, center)\n",
    "    pygame.display.flip()\n",
    "    response = wait(\"\")\n",
    "\n",
    "\n",
    "pygame.quit()"
   ]
  },
  {
   "cell_type": "code",
   "execution_count": null,
   "id": "d5aa099d-69f0-4c51-aa47-9fc61bf16921",
   "metadata": {},
   "outputs": [],
   "source": []
  }
 ],
 "metadata": {
  "kernelspec": {
   "display_name": "Python 3 (ipykernel)",
   "language": "python",
   "name": "python3"
  },
  "language_info": {
   "codemirror_mode": {
    "name": "ipython",
    "version": 3
   },
   "file_extension": ".py",
   "mimetype": "text/x-python",
   "name": "python",
   "nbconvert_exporter": "python",
   "pygments_lexer": "ipython3",
   "version": "3.9.13"
  }
 },
 "nbformat": 4,
 "nbformat_minor": 5
}
